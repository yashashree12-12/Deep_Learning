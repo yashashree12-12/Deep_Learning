{
 "cells": [
  {
   "cell_type": "code",
   "execution_count": 10,
   "id": "14915ecd",
   "metadata": {},
   "outputs": [],
   "source": [
    "import numpy as np\n",
    "import tensorflow as tf\n",
    "from tensorflow.keras.models import Sequential\n",
    "from tensorflow.keras.layers import Dense, Flatten\n",
    "from tensorflow.keras.datasets import fashion_mnist\n"
   ]
  },
  {
   "cell_type": "code",
   "execution_count": 11,
   "id": "45f2c580",
   "metadata": {},
   "outputs": [],
   "source": [
    "# 1. Load the dataset\n",
    "(X_train, y_train), (X_test, y_test) = fashion_mnist.load_data()"
   ]
  },
  {
   "cell_type": "code",
   "execution_count": 12,
   "id": "5aabc2f9",
   "metadata": {},
   "outputs": [],
   "source": [
    "# 2. Normalize the data\n",
    "X_train = X_train / 255.0\n",
    "X_test = X_test / 255.0"
   ]
  },
  {
   "cell_type": "code",
   "execution_count": 13,
   "id": "d22a4ddf",
   "metadata": {},
   "outputs": [],
   "source": [
    "# 2. Define the neural network model\n",
    "model = Sequential([\n",
    "    Flatten(input_shape=(28, 28)),     # Convert 28x28 images to 784-dim vectors\n",
    "    Dense(128, activation='relu'),     # Hidden layer\n",
    "    Dense(10, activation='softmax')    # Output layer for 10 classes\n",
    "])"
   ]
  },
  {
   "cell_type": "code",
   "execution_count": 14,
   "id": "ad45b689",
   "metadata": {},
   "outputs": [],
   "source": [
    "# 3. Compile the model\n",
    "model.compile(optimizer='adam',\n",
    "              loss='sparse_categorical_crossentropy',\n",
    "              metrics=['accuracy'])"
   ]
  },
  {
   "cell_type": "code",
   "execution_count": 15,
   "id": "9fe26168",
   "metadata": {},
   "outputs": [
    {
     "name": "stdout",
     "output_type": "stream",
     "text": [
      "Epoch 1/10\n",
      "1875/1875 [==============================] - 20s 9ms/step - loss: 0.4909 - accuracy: 0.8272 - val_loss: 0.4304 - val_accuracy: 0.8450\n",
      "Epoch 2/10\n",
      "1875/1875 [==============================] - 21s 11ms/step - loss: 0.3727 - accuracy: 0.8657 - val_loss: 0.3736 - val_accuracy: 0.8632\n",
      "Epoch 3/10\n",
      "1875/1875 [==============================] - 23s 12ms/step - loss: 0.3340 - accuracy: 0.8780 - val_loss: 0.3719 - val_accuracy: 0.8618\n",
      "Epoch 4/10\n",
      "1875/1875 [==============================] - 19s 10ms/step - loss: 0.3118 - accuracy: 0.8851 - val_loss: 0.3458 - val_accuracy: 0.8758\n",
      "Epoch 5/10\n",
      "1875/1875 [==============================] - 19s 10ms/step - loss: 0.2919 - accuracy: 0.8923 - val_loss: 0.3583 - val_accuracy: 0.8684\n",
      "Epoch 6/10\n",
      "1875/1875 [==============================] - 16s 9ms/step - loss: 0.2786 - accuracy: 0.8958 - val_loss: 0.3377 - val_accuracy: 0.8739\n",
      "Epoch 7/10\n",
      "1875/1875 [==============================] - 16s 9ms/step - loss: 0.2668 - accuracy: 0.9005 - val_loss: 0.3380 - val_accuracy: 0.8762\n",
      "Epoch 8/10\n",
      "1875/1875 [==============================] - 17s 9ms/step - loss: 0.2564 - accuracy: 0.9038 - val_loss: 0.3440 - val_accuracy: 0.8796\n",
      "Epoch 9/10\n",
      "1875/1875 [==============================] - 17s 9ms/step - loss: 0.2473 - accuracy: 0.9075 - val_loss: 0.3585 - val_accuracy: 0.8728\n",
      "Epoch 10/10\n",
      "1875/1875 [==============================] - 17s 9ms/step - loss: 0.2363 - accuracy: 0.9112 - val_loss: 0.3314 - val_accuracy: 0.8811\n"
     ]
    },
    {
     "data": {
      "text/plain": [
       "<keras.callbacks.History at 0x16c4c638e20>"
      ]
     },
     "execution_count": 15,
     "metadata": {},
     "output_type": "execute_result"
    }
   ],
   "source": [
    "# 4. Train the model\n",
    "model.fit(X_train, y_train, epochs=10, validation_data=(X_test, y_test))"
   ]
  },
  {
   "cell_type": "code",
   "execution_count": 7,
   "id": "057f4d80",
   "metadata": {},
   "outputs": [
    {
     "name": "stdout",
     "output_type": "stream",
     "text": [
      "Epoch 1/10\n",
      "1875/1875 [==============================] - 12s 6ms/step - loss: 0.2328 - accuracy: 0.9126 - val_loss: 0.3505 - val_accuracy: 0.8791\n",
      "Epoch 2/10\n",
      "1875/1875 [==============================] - 16s 9ms/step - loss: 0.2223 - accuracy: 0.9172 - val_loss: 0.3353 - val_accuracy: 0.8846\n",
      "Epoch 3/10\n",
      "1875/1875 [==============================] - 18s 9ms/step - loss: 0.2174 - accuracy: 0.9178 - val_loss: 0.3549 - val_accuracy: 0.8756\n",
      "Epoch 4/10\n",
      "1875/1875 [==============================] - 20s 10ms/step - loss: 0.2130 - accuracy: 0.9201 - val_loss: 0.3321 - val_accuracy: 0.8832\n",
      "Epoch 5/10\n",
      "1875/1875 [==============================] - 17s 9ms/step - loss: 0.2038 - accuracy: 0.9235 - val_loss: 0.3482 - val_accuracy: 0.8876\n",
      "Epoch 6/10\n",
      "1875/1875 [==============================] - 15s 8ms/step - loss: 0.1978 - accuracy: 0.9255 - val_loss: 0.3383 - val_accuracy: 0.8886\n",
      "Epoch 7/10\n",
      "1875/1875 [==============================] - 15s 8ms/step - loss: 0.1922 - accuracy: 0.9277 - val_loss: 0.3632 - val_accuracy: 0.8797\n",
      "Epoch 8/10\n",
      "1875/1875 [==============================] - 16s 8ms/step - loss: 0.1882 - accuracy: 0.9286 - val_loss: 0.3318 - val_accuracy: 0.8930\n",
      "Epoch 9/10\n",
      "1875/1875 [==============================] - 16s 8ms/step - loss: 0.1836 - accuracy: 0.9308 - val_loss: 0.3546 - val_accuracy: 0.8835\n",
      "Epoch 10/10\n",
      "1875/1875 [==============================] - 18s 9ms/step - loss: 0.1793 - accuracy: 0.9318 - val_loss: 0.3599 - val_accuracy: 0.8902\n"
     ]
    },
    {
     "data": {
      "text/plain": [
       "<keras.callbacks.History at 0x16c4a802800>"
      ]
     },
     "execution_count": 7,
     "metadata": {},
     "output_type": "execute_result"
    }
   ],
   "source": [
    "# 6. Train the model\n",
    "model.fit(X_train, y_train, epochs=10, validation_data=(X_test, y_test))\n"
   ]
  },
  {
   "cell_type": "code",
   "execution_count": 8,
   "id": "a3b122d5",
   "metadata": {},
   "outputs": [
    {
     "name": "stdout",
     "output_type": "stream",
     "text": [
      "313/313 [==============================] - 2s 5ms/step - loss: 0.3599 - accuracy: 0.8902\n",
      "Test accuracy: 0.8902\n"
     ]
    }
   ],
   "source": [
    "# 7. Evaluate the model\n",
    "test_loss, test_accuracy = model.evaluate(X_test, y_test)\n",
    "print(f\"Test accuracy: {test_accuracy:.4f}\")"
   ]
  }
 ],
 "metadata": {
  "kernelspec": {
   "display_name": "tf-env",
   "language": "python",
   "name": "python3"
  },
  "language_info": {
   "codemirror_mode": {
    "name": "ipython",
    "version": 3
   },
   "file_extension": ".py",
   "mimetype": "text/x-python",
   "name": "python",
   "nbconvert_exporter": "python",
   "pygments_lexer": "ipython3",
   "version": "3.10.0"
  }
 },
 "nbformat": 4,
 "nbformat_minor": 5
}
